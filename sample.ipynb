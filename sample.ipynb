{
 "cells": [
  {
   "cell_type": "code",
   "execution_count": null,
   "metadata": {},
   "outputs": [],
   "source": [
    "from p2t2 import simulate\n",
    "\n",
    "simulate(\n",
    "    config_file=\"config.yaml\",\n",
    "    model_type=\"P2T2\",\n",
    "    min_te=5.0,\n",
    "    max_te=15.0,\n",
    "    n_echoes=20,\n",
    "    num_signals=10000,\n",
    "    out_folder='data'\n",
    ")"
   ]
  },
  {
   "cell_type": "code",
   "execution_count": 1,
   "metadata": {},
   "outputs": [],
   "source": [
    "from p2t2 import train\n",
    "\n",
    "train(\n",
    "    config='config.yaml',\n",
    "    data_folder=\"data\",\n",
    "    output_path=\"runs\",\n",
    "    model_type='P2T2-FC',\n",
    "    min_te=7.9,\n",
    "    max_te=None\n",
    ")"
   ]
  },
  {
   "cell_type": "code",
   "execution_count": null,
   "metadata": {},
   "outputs": [],
   "source": [
    "from p2t2 import infer\n",
    "import os\n",
    "\n",
    "data_root = 'mri_example/'\n",
    "data_name = 'Brats18_TCIA13_645_1_t1_230318_221644_slice_100'\n",
    "data_dict = {\n",
    "    'mri': os.path.join(data_root, f'{data_name}.nii.gz'),\n",
    "    'metadata': os.path.join(data_root, f'{data_name}_metadata.json') \n",
    "}\n",
    "\n",
    "infer(\n",
    "    model_type=\"P2T2-FC\",\n",
    "    model_path=\"model.pt\",\n",
    "    model_args_path=\"model_args.yaml\",\n",
    "    data_dict=data_dict,\n",
    "    output_dir=\"output\"\n",
    ")"
   ]
  }
 ],
 "metadata": {
  "kernelspec": {
   "display_name": "p2t2",
   "language": "python",
   "name": "python3"
  },
  "language_info": {
   "codemirror_mode": {
    "name": "ipython",
    "version": 3
   },
   "file_extension": ".py",
   "mimetype": "text/x-python",
   "name": "python",
   "nbconvert_exporter": "python",
   "pygments_lexer": "ipython3",
   "version": "3.10.14"
  }
 },
 "nbformat": 4,
 "nbformat_minor": 2
}
